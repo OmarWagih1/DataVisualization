{
 "cells": [
  {
   "cell_type": "code",
   "execution_count": 1,
   "metadata": {},
   "outputs": [],
   "source": [
    "import numpy as np\n",
    "import pandas as pd\n",
    "import time\n",
    "import os"
   ]
  },
  {
   "cell_type": "code",
   "execution_count": 2,
   "metadata": {},
   "outputs": [],
   "source": [
    "totalDebt = pd.read_csv(\"DataAsCsv/Page 3 Data.csv\",sep=';')"
   ]
  },
  {
   "cell_type": "code",
   "execution_count": null,
   "metadata": {},
   "outputs": [],
   "source": [
    "totalDebt = totalDebt.rename(columns={\"Unnamed: 0\":\"Quarter\"})"
   ]
  },
  {
   "cell_type": "code",
   "execution_count": null,
   "metadata": {},
   "outputs": [],
   "source": [
    "totalDebt['Quarter'] = \"20\" + totalDebt['Quarter'].str.slice(start=0,stop=2) + \" \" + totalDebt['Quarter'].str.slice(start=3,stop=5)"
   ]
  },
  {
   "cell_type": "code",
   "execution_count": null,
   "metadata": {},
   "outputs": [],
   "source": [
    "totalDebt.head()"
   ]
  },
  {
   "cell_type": "code",
   "execution_count": null,
   "metadata": {},
   "outputs": [],
   "source": [
    "totalDebt.to_csv(\"DataAsCsv/totalDebt.csv\",index=False)"
   ]
  },
  {
   "cell_type": "code",
   "execution_count": null,
   "metadata": {},
   "outputs": [],
   "source": [
    "import plotly.graph_objects as go\n",
    "\n",
    "x=totalDebt['Quarter']\n",
    "\n",
    "fig = go.Figure()\n",
    "fig.add_trace(go.Scatter(\n",
    "    x=x, y=totalDebt['Mortgage'],\n",
    "    hoverinfo='x+y',\n",
    "    mode='lines',\n",
    "    line=dict(width=0.5, color='rgb(0, 10, 10)'),\n",
    "    stackgroup='one',\n",
    "    name = \"Mortgage\"\n",
    "))\n",
    "\n",
    "fig.add_trace(go.Scatter(\n",
    "    x=x, y=totalDebt['HE Revolving'],\n",
    "    hoverinfo='x+y',\n",
    "    mode='lines',\n",
    "    line=dict(width=0.5, color='rgb(111, 231, 219)'),\n",
    "    stackgroup='one',\n",
    "    name = \"HE Revolving\"\n",
    "))\n",
    "\n",
    "fig.add_trace(go.Scatter(\n",
    "    x=x, y=totalDebt['Auto Loan'],\n",
    "    hoverinfo='x+y',\n",
    "    mode='lines',\n",
    "    line=dict(width=0.5, color='rgb(255, 231, 10)'),\n",
    "    stackgroup='one',\n",
    "    name = \"Auto Loan\"\n",
    "))\n",
    "\n",
    "fig.add_trace(go.Scatter(\n",
    "    x=x, y=totalDebt['Credit Card'],\n",
    "    hoverinfo='x+y',\n",
    "    mode='lines',\n",
    "    line=dict(width=0.5, color='rgb(0, 100, 255)'),\n",
    "    stackgroup='one',\n",
    "    name = \"Credit Card\"\n",
    "))\n",
    "\n",
    "fig.add_trace(go.Scatter(\n",
    "    x=x, y=totalDebt['Student Loan'],\n",
    "    hoverinfo='x+y',\n",
    "    mode='lines',\n",
    "    line=dict(width=0.5, color='rgb(255, 0,100)'),\n",
    "    stackgroup='one',\n",
    "    name = \"Student Loan\"\n",
    "))\n",
    "\n",
    "fig.add_trace(go.Scatter(\n",
    "    x=x, y=totalDebt['Other'],\n",
    "    hoverinfo='x+y',\n",
    "    mode='lines',\n",
    "    line=dict(width=0.5, color='rgb(255, 100,0)'),\n",
    "    stackgroup='one',\n",
    "    name = \"Other\"\n",
    "))\n",
    "\n",
    "fig.update_layout(title=\"Debt By Composition\",\n",
    "    xaxis_title=\"Quarter\",\n",
    "    yaxis_title=\"Trillions of Dollars\",\n",
    "    yaxis_range=(0, 15),\n",
    "    plot_bgcolor='rgba(0,0,0,0)')\n",
    "fig.show()"
   ]
  },
  {
   "cell_type": "code",
   "execution_count": null,
   "metadata": {},
   "outputs": [],
   "source": [
    "t = [(totalDebt.loc[len(totalDebt)-1,i] - totalDebt.loc[0,i])/totalDebt.loc[0,i] for i in totalDebt.columns[1::]]"
   ]
  },
  {
   "cell_type": "code",
   "execution_count": null,
   "metadata": {},
   "outputs": [],
   "source": [
    "import plotly.express as px\n",
    "\n",
    "df = totalDebt.head(1)\n",
    "for i in range(len(df.columns[1::])):\n",
    "    df.loc[0,df.columns[i+1]] = t[i]\n",
    "fig = px.bar(df, y=df.loc[0][1::]*100, x=df.columns[1::], text= df.loc[0][1::]*100, labels={'x':\"Type of Debt\",\n",
    "                                                                                           'y':\"Increase in Percentage\"})\n",
    "fig.update_traces(texttemplate='%{text:.2s}%', textposition='outside')\n",
    "fig.update_layout(uniformtext_minsize=8, uniformtext_mode='hide',\n",
    "    plot_bgcolor='rgba(0,0,0,0)',\n",
    "    title=\"Increase in debt from 2003 to 2019\",)\n",
    "fig.show()"
   ]
  },
  {
   "cell_type": "code",
   "execution_count": null,
   "metadata": {},
   "outputs": [],
   "source": [
    "debtByAge = pd.read_csv(\"DataAsCsv/Page 20 Data.csv\",sep=';')\n",
    "debtByAge['quarter'] = \"20\" + debtByAge['quarter'].str.slice(start=0,stop=2) + \" \" + debtByAge['quarter'].str.slice(start=3,stop=5)\n",
    "debtByAge = debtByAge[16::]\n",
    "debtByAge.head()\n",
    "debtByAge.reset_index(inplace=True)\n",
    "debtByAge.drop(columns=['index'],inplace=True)"
   ]
  },
  {
   "cell_type": "code",
   "execution_count": null,
   "metadata": {},
   "outputs": [],
   "source": []
  },
  {
   "cell_type": "code",
   "execution_count": null,
   "metadata": {},
   "outputs": [],
   "source": [
    "import plotly.graph_objects as go\n",
    "\n",
    "x=debtByAge['quarter']\n",
    "\n",
    "fig = go.Figure()\n",
    "fig.add_trace(go.Scatter(\n",
    "    x=x, y=debtByAge['18-29'],\n",
    "    hoverinfo='x+y',\n",
    "    mode='lines',\n",
    "    line=dict(width=0.5, color='rgb(0, 10, 10)'),\n",
    "    stackgroup='one',\n",
    "    name = \"18-29\"\n",
    "))\n",
    "\n",
    "fig.add_trace(go.Scatter(\n",
    "    x=x, y=debtByAge['30-39'],\n",
    "    hoverinfo='x+y',\n",
    "    mode='lines',\n",
    "    line=dict(width=0.5, color='rgb(111, 231, 219)'),\n",
    "    stackgroup='one',\n",
    "    name = \"30-39\"\n",
    "))\n",
    "\n",
    "fig.add_trace(go.Scatter(\n",
    "    x=x, y=debtByAge['40-49'],\n",
    "    hoverinfo='x+y',\n",
    "    mode='lines',\n",
    "    line=dict(width=0.5, color='rgb(255, 231, 10)'),\n",
    "    stackgroup='one',\n",
    "    name = \"40-49\"\n",
    "))\n",
    "\n",
    "fig.add_trace(go.Scatter(\n",
    "    x=x, y=debtByAge['50-59'],\n",
    "    hoverinfo='x+y',\n",
    "    mode='lines',\n",
    "    line=dict(width=0.5, color='rgb(0, 100, 255)'),\n",
    "    stackgroup='one',\n",
    "    name = \"50-59\"\n",
    "))\n",
    "\n",
    "fig.add_trace(go.Scatter(\n",
    "    x=x, y=debtByAge['60-69'],\n",
    "    hoverinfo='x+y',\n",
    "    mode='lines',\n",
    "    line=dict(width=0.5, color='rgb(255, 0,100)'),\n",
    "    stackgroup='one',\n",
    "    name = \"60-69\"\n",
    "))\n",
    "\n",
    "fig.add_trace(go.Scatter(\n",
    "    x=x, y=debtByAge['70+'],\n",
    "    hoverinfo='x+y',\n",
    "    mode='lines',\n",
    "    line=dict(width=0.5, color='rgb(255, 100,0)'),\n",
    "    stackgroup='one',\n",
    "    name = \"70+\"\n",
    "))\n",
    "\n",
    "fig.update_layout(title=\"Debt By Composition\",\n",
    "    xaxis_title=\"Quarter\",\n",
    "    yaxis_title=\"Trillions of Dollars\",\n",
    "    yaxis_range=(0, 15),\n",
    "    plot_bgcolor='rgba(0,0,0,0)')\n",
    "fig.show()"
   ]
  },
  {
   "cell_type": "code",
   "execution_count": null,
   "metadata": {},
   "outputs": [],
   "source": [
    "t = [(debtByAge.loc[len(debtByAge)-1,i] - debtByAge.loc[0,i])/debtByAge.loc[0,i] for i in debtByAge.columns[1::]]"
   ]
  },
  {
   "cell_type": "code",
   "execution_count": null,
   "metadata": {},
   "outputs": [],
   "source": [
    "import plotly.express as px\n",
    "\n",
    "df = debtByAge.head(1)\n",
    "for i in range(len(df.columns[1::])):\n",
    "    df.loc[0,df.columns[i+1]] = t[i]\n",
    "fig = px.bar(df, y=df.loc[0][1::]*100, x=df.columns[1::], text= df.loc[0][1::]*100, labels={'x':\"Type of Debt\",\n",
    "                                                                                           'y':\"Increase in Percentage\"})\n",
    "fig.update_traces(texttemplate='%{text:.2s}%', textposition='outside')\n",
    "fig.update_layout(uniformtext_minsize=8, uniformtext_mode='hide',\n",
    "    plot_bgcolor='rgba(0,0,0,0)',\n",
    "    title=\"Increase in debt from 2003 to 2019\",)\n",
    "fig.show()"
   ]
  },
  {
   "cell_type": "code",
   "execution_count": null,
   "metadata": {},
   "outputs": [],
   "source": [
    "DTA = pd.read_csv(\"DataAsCsv/Page 21 Data.csv\",sep=';')\n",
    "print(DTA.head())\n",
    "DTA.rename(columns={\"Unnamed: 0\":\"Types\"},inplace=True)"
   ]
  },
  {
   "cell_type": "code",
   "execution_count": null,
   "metadata": {},
   "outputs": [],
   "source": [
    "import plotly.graph_objects as go\n",
    "from plotly.subplots import make_subplots\n",
    "colors =  ['rgb(120, 231, 10)', 'rgb(0, 100, 255)', 'rgb(0, 200, 200)',\n",
    "                'rgb(50, 150, 219)', 'rgb(255, 0,100)','rgb(255, 100,0)']\n",
    "labels = [\"Auto Loans\", \"Credit Card\", \"Mortgage\", \"HELOC\", \"Student Loans\",\"Other\"]\n",
    "\n",
    "fig = make_subplots(2, 3, specs=[[{'type':'domain'}, {'type':'domain'}, {'type':'domain'}],[\n",
    "                                  {'type':'domain'}, {'type':'domain'}, {'type':'domain'}]],\n",
    "                    subplot_titles=['18-29', '30-39','40-49','50-59','60-69','70+'])\n",
    "fig.add_trace(go.Pie(labels=labels, values=DTA['18-29'], scalegroup='one',\n",
    "                     name=\"18-29\",marker_colors= colors), 1, 1)\n",
    "fig.add_trace(go.Pie(labels=labels, values=DTA['30-39'], scalegroup='one',\n",
    "                     name=\"30-39\",marker_colors= colors), 1, 2)\n",
    "fig.add_trace(go.Pie(labels=labels, values=DTA['40-49'], scalegroup='one',\n",
    "                     name=\"40-49\",marker_colors= colors), 1, 3)\n",
    "fig.add_trace(go.Pie(labels=labels, values=DTA['50-59'], scalegroup='one',\n",
    "                     name=\"50-59\",marker_colors= colors), 2, 1)\n",
    "fig.add_trace(go.Pie(labels=labels, values=DTA['60-69'], scalegroup='one',\n",
    "                     name=\"60-69\",marker_colors= colors), 2, 2)\n",
    "fig.add_trace(go.Pie(labels=labels, values=DTA['70+'], scalegroup='one',\n",
    "                     name=\"70+\",marker_colors= colors), 2, 3)\n",
    "\n",
    "fig.update_layout(title_text='Debt Composition By Age (2019)')\n",
    "fig.show()"
   ]
  },
  {
   "cell_type": "code",
   "execution_count": null,
   "metadata": {},
   "outputs": [],
   "source": [
    "debtByState = pd.read_csv(\"DataAsCsv/total.csv\",sep=';')\n",
    "debtByState.head()\n",
    "debtByState['Q4_2019'] = debtByState['Q4_2019'].str.replace(',','')\n",
    "debtByState.loc[39,'Q4_2019'] = 0\n",
    "debtByState['Q4_2019'] = debtByState['Q4_2019'].astype(float)\n",
    "debtByState['state'] = debtByState['state'].str.replace(' ','')"
   ]
  },
  {
   "cell_type": "code",
   "execution_count": null,
   "metadata": {},
   "outputs": [],
   "source": [
    "import plotly.graph_objects as go\n",
    "\n",
    "fig = go.Figure(data=go.Choropleth(\n",
    "    locations=debtByState['state'], # Spatial coordinates\n",
    "    z = debtByState['Q4_2019'], # Data to be color-coded\n",
    "    locationmode = 'USA-states', # set of locations match entries in `locations`\n",
    "    colorscale = 'Blues',\n",
    "    text = debtByState['Q4_2019'],\n",
    "    colorbar_title = \"Thousands USD\",\n",
    "))\n",
    "\n",
    "fig.update_layout(\n",
    "    title_text = 'Total Debt per Capita (2019)',\n",
    "    geo_scope='usa', # limite map scope to USA\n",
    ")\n",
    "\n",
    "fig.show()"
   ]
  },
  {
   "cell_type": "code",
   "execution_count": null,
   "metadata": {},
   "outputs": [],
   "source": []
  },
  {
   "cell_type": "code",
   "execution_count": null,
   "metadata": {},
   "outputs": [],
   "source": []
  }
 ],
 "metadata": {
  "kernelspec": {
   "display_name": "Python 3",
   "language": "python",
   "name": "python3"
  },
  "language_info": {
   "codemirror_mode": {
    "name": "ipython",
    "version": 3
   },
   "file_extension": ".py",
   "mimetype": "text/x-python",
   "name": "python",
   "nbconvert_exporter": "python",
   "pygments_lexer": "ipython3",
   "version": "3.7.6"
  }
 },
 "nbformat": 4,
 "nbformat_minor": 4
}
