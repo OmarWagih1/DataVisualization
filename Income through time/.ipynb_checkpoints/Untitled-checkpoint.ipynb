{
 "cells": [
  {
   "cell_type": "code",
   "execution_count": null,
   "metadata": {},
   "outputs": [],
   "source": [
    "import pandas as pd\n",
    "import numpy as np\n",
    "import matplotlib\n",
    "import os\n",
    "import time"
   ]
  },
  {
   "cell_type": "code",
   "execution_count": null,
   "metadata": {},
   "outputs": [],
   "source": [
    "population = pd.read_csv(\"population.csv\")"
   ]
  },
  {
   "cell_type": "code",
   "execution_count": null,
   "metadata": {},
   "outputs": [],
   "source": [
    "\"\"\"\n",
    "For when you want to get just the countries\n",
    "population = population[population['Country Name'].str.find('income') == -1]\n",
    "population = population[population['Country Name'].str.find('countries') == -1]\n",
    "population = population[population['Country Name'].str.find('IDA') == -1]\n",
    "population = population[population['Country Name'].str.find('BDA') == -1]\n",
    "population = population[population['Country Name'].str.find('World') == -1]\n",
    "population = population[population['Country Name'].str.find('demographic') == -1]\n",
    "population = population[population['Country Name'].str.find('members') == -1]\n",
    "population = population[population['Country Name'].str.find('situations') == -1]\n",
    "population = population[population['Country Name'].str.find('&') == -1]\n",
    "population = population[population['Country Name'].str.find('IBRD') == -1]\n",
    "population = population[population['Country Name'].str.find('South Asia') == -1]\n",
    "population = population[population['Country Name'].str.find('Union') == -1]\n",
    "population = population[population['Country Name'].str.find('North America') == -1]\n",
    "population = population[population['Country Name'].str.find('area') == -1]\n",
    "population = population[population['Country Name'].str.find('Sub-Saharan Africa') == -1]\n",
    "population = population[population['Country Name'].str.find('Central Europe and the Baltics') == -1]\n",
    "\"\"\""
   ]
  },
  {
   "cell_type": "code",
   "execution_count": null,
   "metadata": {},
   "outputs": [],
   "source": [
    "population = population[population['Country Name'].str.find('income') != -1]\n",
    "population = population[population['Country Name'].str.find('(') == -1]\n",
    "population.head()"
   ]
  },
  {
   "cell_type": "code",
   "execution_count": null,
   "metadata": {},
   "outputs": [],
   "source": [
    "population.drop(columns={'Unnamed: 64','2019','Indicator Name','Indicator Code','Country Code'},inplace=True)"
   ]
  },
  {
   "cell_type": "code",
   "execution_count": null,
   "metadata": {},
   "outputs": [],
   "source": [
    "population.fillna(0,inplace=True)\n",
    "population.head(10)\n",
    "population.to_csv(\"income.csv\")\n"
   ]
  },
  {
   "cell_type": "code",
   "execution_count": null,
   "metadata": {},
   "outputs": [],
   "source": [
    "population = pd.read_csv(\"income.csv\")"
   ]
  },
  {
   "cell_type": "code",
   "execution_count": null,
   "metadata": {},
   "outputs": [],
   "source": [
    "for p in range(3):\n",
    "    i = 0\n",
    "    while i < len(population.columns):\n",
    "        try:\n",
    "            a = np.array(population.iloc[:, i + 1])\n",
    "            b = np.array(population.iloc[:, i + 2])\n",
    "            c = (a + b) / 2\n",
    "            population.insert(i+2, str(population.iloc[:, i + 1].name) + '^' + str(len(population.columns)), c)\n",
    "        except:\n",
    "            print(f\"\\n  Interpolation No. {p + 1} done...\")\n",
    "        i += 2\n",
    "\n",
    "population = population.melt(id_vars=[\"Country Name\"], \n",
    "        var_name=\"Year\", \n",
    "        value_name=\"value\")\n",
    "population.rename(columns={\"Country Name\":\"name\"},inplace = True)\n",
    "populationUpdated = population"
   ]
  },
  {
   "cell_type": "code",
   "execution_count": null,
   "metadata": {},
   "outputs": [],
   "source": [
    "import matplotlib\n",
    "import matplotlib.pyplot as plt\n",
    "import matplotlib.ticker as ticker\n",
    "import matplotlib.animation as animation\n",
    "import matplotlib.colors as mc\n",
    "import colorsys\n",
    "from random import randint\n",
    "import re\n",
    "\n",
    "frames_list = populationUpdated[\"Year\"].unique().tolist()\n",
    "for i in range(50):\n",
    "    frames_list.append(populationUpdated[\"Year\"].iloc[-1])\n",
    "\n",
    "def transform_color(color, amount = 0.5):\n",
    "\n",
    "    try:\n",
    "        c = mc.cnames[color]\n",
    "    except:\n",
    "        c = color\n",
    "        c = colorsys.rgb_to_hls(*mc.to_rgb(c))\n",
    "    return colorsys.hls_to_rgb(c[0], 1 - amount * (1 - c[1]), c[2])\n",
    "\n",
    "\n",
    "all_names =  populationUpdated[\"name\"].unique().tolist()\n",
    "random_hex_colors = []\n",
    "for i in range(len(all_names)):\n",
    "    random_hex_colors.append('#' + '%06X' % randint(0, 0xFFFFFF))\n",
    "\n",
    "rgb_colors = [transform_color(i, 1) for i in random_hex_colors]\n",
    "rgb_colors_opacity = [rgb_colors[x] + (0.825,) for x in range(len(rgb_colors))]\n",
    "rgb_colors_dark = [transform_color(i, 1.12) for i in random_hex_colors]\n",
    "\n",
    "fig, ax = plt.subplots(figsize = (36, 20))\n",
    "\n",
    "num_of_elements = 4\n",
    "\n",
    "def draw_barchart(Time):\n",
    "\n",
    "    df_frame = populationUpdated[populationUpdated['Year'].eq(Time)].sort_values(by = 'value', ascending = True).tail(num_of_elements)\n",
    "    ax.clear()\n",
    "\n",
    "    normal_colors = dict(zip(populationUpdated['name'].unique(), rgb_colors_opacity))\n",
    "    dark_colors = dict(zip(populationUpdated['name'].unique(), rgb_colors_dark))\n",
    "    \n",
    "    ax.barh(df_frame['name'], df_frame['value'], color = [normal_colors[x] for x in df_frame['name']], height = 0.8,\n",
    "            edgecolor =([dark_colors[x] for x in df_frame['name']]), linewidth = '6')\n",
    "\n",
    "    dx = float(df_frame['value'].max()) / 200\n",
    "\n",
    "    for i, (value, name) in enumerate(zip(df_frame['value'], df_frame['name'])):\n",
    "        ax.text(value + dx, i + (num_of_elements / 50), '    ' + name,\n",
    "        size = 36, weight = 'bold', ha = 'left', va = 'center', fontdict = {'fontname': 'Trebuchet MS'})\n",
    "        ax.text(value + dx, i - (num_of_elements / 50), f'    {value:,.0f}', size = 36, ha = 'left', va = 'center')\n",
    "\n",
    "    time_unit_displayed = re.sub(r'\\^(.*)', r'', str(Time))\n",
    "    ax.text(1.0, 0.2, time_unit_displayed, transform = ax.transAxes, color = '#666666',\n",
    "            size = 90, ha = 'right', weight = 'light', fontdict = {'fontname': 'Trebuchet MS'})\n",
    "    ax.text(1.0, 0.1, \"Total: \"+ format(int(df_frame['value'].sum()), ',d'), transform = ax.transAxes, color = '#666666',\n",
    "            size = 62, ha = 'right', weight = 'light', fontdict = {'fontname': 'Trebuchet MS'})\n",
    "    ax.text(-0.005, 1.14, 'Population per income class from 1960 to 2018', transform = ax.transAxes,\n",
    "            size = 62, weight = 'bold', ha = 'left', fontdict = {'fontname': 'Trebuchet MS'})\n",
    "\n",
    "    ax.xaxis.set_major_formatter(ticker.StrMethodFormatter('{x:,.0f}'))\n",
    "    ax.xaxis.set_ticks_position('top')\n",
    "    ax.tick_params(axis = 'x', colors = '#666666', labelsize = 28)\n",
    "    ax.set_yticks([])\n",
    "    ax.set_axisbelow(True)\n",
    "    ax.margins(0, 0.01)\n",
    "    ax.grid(which = 'major', axis = 'x', linestyle = '-')\n",
    "\n",
    "    plt.locator_params(axis = 'x', nbins = 4)\n",
    "    plt.box(False)\n",
    "    plt.subplots_adjust(left = 0.075, right = 0.75, top = 0.825, bottom = 0.05, wspace = 0.2, hspace = 0.2)\n",
    "\n",
    "animator = animation.FuncAnimation(fig, draw_barchart, frames = frames_list)\n",
    "animator.save(\"Racing Bar Chart.gif\", fps = 25, bitrate = 1800)"
   ]
  },
  {
   "cell_type": "code",
   "execution_count": null,
   "metadata": {},
   "outputs": [],
   "source": []
  },
  {
   "cell_type": "code",
   "execution_count": null,
   "metadata": {},
   "outputs": [],
   "source": []
  }
 ],
 "metadata": {
  "kernelspec": {
   "display_name": "Python 3",
   "language": "python",
   "name": "python3"
  },
  "language_info": {
   "codemirror_mode": {
    "name": "ipython",
    "version": 3
   },
   "file_extension": ".py",
   "mimetype": "text/x-python",
   "name": "python",
   "nbconvert_exporter": "python",
   "pygments_lexer": "ipython3",
   "version": "3.7.6"
  }
 },
 "nbformat": 4,
 "nbformat_minor": 4
}
